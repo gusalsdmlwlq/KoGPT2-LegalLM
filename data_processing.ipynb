{
 "cells": [
  {
   "cell_type": "code",
   "execution_count": 58,
   "metadata": {},
   "outputs": [],
   "source": [
    "import json\n",
    "import re\n",
    "import pandas as pd\n",
    "import nltk\n",
    "import numpy as np\n",
    "from glob import glob\n",
    "from tqdm import tqdm\n",
    "import time\n",
    "from nltk import sent_tokenize"
   ]
  },
  {
   "cell_type": "code",
   "execution_count": 3,
   "metadata": {},
   "outputs": [],
   "source": [
    "def clean_text(text):\n",
    "    lists = re.findall(r\"【[^【^】]*】\", text)\n",
    "    for word in lists:\n",
    "        word_ = re.sub(\"\\s+\", \"\", word)\n",
    "        word_ = re.sub(\"【\", \"[\", word_)\n",
    "        word_ = re.sub(\"】\", \"]\", word_)\n",
    "        text = text.replace(word, \" \" + word_ + \":\")\n",
    "        \n",
    "    text = text.replace(\"\\'\", '\"')\n",
    "    text = text.replace(\"\\u2018\", \"'\")\n",
    "    text = text.replace(\"\\u2019\", \"'\")\n",
    "    text = re.sub(r\"\\s+\", \" \", text)\n",
    "    text = text.replace(\". \", \".\")\n",
    "    text = re.sub(r\"([ㄱ-ㅎㅏ-ㅣ가-힣])\\.([\\S])\", r\"\\1. \\2\", text)\n",
    "    text = re.sub(r\"([\\S])\\.([ㄱ-ㅎㅏ-ㅣ가-힣])\", r\"\\1. \\2\", text)\n",
    "    text = text.strip()\n",
    "    \n",
    "    return text"
   ]
  },
  {
   "cell_type": "code",
   "execution_count": 4,
   "metadata": {},
   "outputs": [],
   "source": [
    "data = json.load(open(\"data/판례/판례.json\", \"r\", encoding=\"utf-8\"))"
   ]
  },
  {
   "cell_type": "code",
   "execution_count": 6,
   "metadata": {},
   "outputs": [],
   "source": [
    "precedent_data = []"
   ]
  },
  {
   "cell_type": "code",
   "execution_count": 7,
   "metadata": {},
   "outputs": [],
   "source": [
    "for precedent_id, precedent in data.items():\n",
    "    for key, value in precedent.items():\n",
    "        if key in [\"http://www.aihub.or.kr/kb/law/precedentText\", \"http://www.aihub.or.kr/kb/law/judgementNote\"]:\n",
    "            precedent_data.append(clean_text(value[0][\"value\"]))\n",
    "            if len(value) > 1:\n",
    "                print(precedent_id)"
   ]
  },
  {
   "cell_type": "code",
   "execution_count": 8,
   "metadata": {},
   "outputs": [],
   "source": [
    "with open(\"data/precedent_data.txt\", \"w\", encoding=\"utf-8\") as f:\n",
    "    for row in precedent_data:\n",
    "        f.write(row+\"\\n\")"
   ]
  },
  {
   "cell_type": "code",
   "execution_count": 10,
   "metadata": {},
   "outputs": [],
   "source": [
    "df = pd.read_excel(\"data/상담데이터/law_talk_question_all.xlsx\")\n",
    "consulting_data = list(df[\"content\"])"
   ]
  },
  {
   "cell_type": "code",
   "execution_count": 12,
   "metadata": {},
   "outputs": [],
   "source": [
    "for row in consulting_data:\n",
    "    if type(row) != str:\n",
    "        consulting_data.remove(row)"
   ]
  },
  {
   "cell_type": "code",
   "execution_count": 13,
   "metadata": {},
   "outputs": [],
   "source": [
    "for idx, row in enumerate(consulting_data):\n",
    "    row = row.replace(\"\\n\", \" \")\n",
    "    row = row.replace(\"\\t\", \" \")\n",
    "    row = re.sub(r\"\\s+\", \" \", row)\n",
    "    row = row.strip()\n",
    "    consulting_data[idx] = row"
   ]
  },
  {
   "cell_type": "code",
   "execution_count": 14,
   "metadata": {},
   "outputs": [],
   "source": [
    "with open(\"data/consulting_data.txt\", \"w\", encoding=\"utf-8\") as f:\n",
    "    for row in consulting_data:\n",
    "        f.write(row+\"\\n\")"
   ]
  },
  {
   "cell_type": "code",
   "execution_count": 20,
   "metadata": {},
   "outputs": [],
   "source": [
    "training_data = []\n",
    "for file in glob(\"data/*.txt\"):\n",
    "    with open(file, \"r\", encoding=\"utf-8\") as f:\n",
    "        training_data += f.read().split(\"\\n\")[:-1]"
   ]
  },
  {
   "cell_type": "code",
   "execution_count": 21,
   "metadata": {},
   "outputs": [],
   "source": [
    "with open(\"data/gpt/data.txt\", \"w\", encoding=\"utf-8\") as f:\n",
    "    for row in training_data:\n",
    "        f.write(row+\"\\n\")"
   ]
  },
  {
   "cell_type": "code",
   "execution_count": 23,
   "metadata": {},
   "outputs": [],
   "source": [
    "from sentencepiece import SentencePieceProcessor as sp"
   ]
  },
  {
   "cell_type": "code",
   "execution_count": 24,
   "metadata": {},
   "outputs": [],
   "source": [
    "tokenizer = sp(\"save/kogpt2.sp\")"
   ]
  },
  {
   "cell_type": "code",
   "execution_count": 25,
   "metadata": {},
   "outputs": [],
   "source": [
    "new_data = []\n",
    "num_tokens = 0"
   ]
  },
  {
   "cell_type": "code",
   "execution_count": 26,
   "metadata": {},
   "outputs": [],
   "source": [
    "min_token_length = 5\n",
    "max_token_length = 512"
   ]
  },
  {
   "cell_type": "code",
   "execution_count": 27,
   "metadata": {},
   "outputs": [],
   "source": [
    "with open(\"data/gpt/data.txt\", \"r\", encoding=\"utf-8\") as f:\n",
    "    data = f.read().split(\"\\n\")"
   ]
  },
  {
   "cell_type": "code",
   "execution_count": 60,
   "metadata": {},
   "outputs": [
    {
     "name": "stderr",
     "output_type": "stream",
     "text": [
      "100%|██████████| 148359/148359 [19:25<00:00, 127.31it/s]\n"
     ]
    },
    {
     "name": "stdout",
     "output_type": "stream",
     "text": [
      "1168.4680650234222\n"
     ]
    }
   ],
   "source": [
    "import time\n",
    "from tqdm import tqdm\n",
    "\n",
    "start = time.time()\n",
    "for row in tqdm(data, total=len(data)):\n",
    "    tokens = []\n",
    "    if len(tokenizer.EncodeAsPieces(row)) + 1 <= min_token_length:\n",
    "        continue\n",
    "    sentences = sent_tokenize(row)\n",
    "    for sent in sentences:\n",
    "        tokens_ = tokenizer.EncodeAsPieces(sent)\n",
    "        if len(tokens) + len(tokens_) <= max_token_length:\n",
    "            tokens += tokens_\n",
    "        else:\n",
    "            new_data.append(clean_text(tokenizer.decode(tokens)))\n",
    "            num_tokens += len(tokens)\n",
    "            tokens = tokens_[:max_token_length]\n",
    "    new_data.append(clean_text(tokenizer.decode(tokens)))\n",
    "    num_tokens += len(tokens)\n",
    "    tokens = []\n",
    "with open(\"data/gpt/data_processed.txt\", \"w\", encoding=\"utf-8\") as f:\n",
    "    for row in new_data:\n",
    "        f.write(row+\"\\n\")\n",
    "end = time.time()\n",
    "print(end-start)"
   ]
  },
  {
   "cell_type": "code",
   "execution_count": 61,
   "metadata": {},
   "outputs": [
    {
     "data": {
      "text/plain": [
       "125272793"
      ]
     },
     "execution_count": 61,
     "metadata": {},
     "output_type": "execute_result"
    }
   ],
   "source": [
    "num_tokens"
   ]
  },
  {
   "cell_type": "code",
   "execution_count": 62,
   "metadata": {},
   "outputs": [
    {
     "data": {
      "text/plain": [
       "356398"
      ]
     },
     "execution_count": 62,
     "metadata": {},
     "output_type": "execute_result"
    }
   ],
   "source": [
    "len(new_data)"
   ]
  },
  {
   "cell_type": "code",
   "execution_count": 63,
   "metadata": {},
   "outputs": [],
   "source": [
    "import random\n",
    "random.seed(1)\n",
    "random.shuffle(new_data)"
   ]
  },
  {
   "cell_type": "code",
   "execution_count": 64,
   "metadata": {},
   "outputs": [],
   "source": [
    "with open(\"data/gpt/train_data.txt\", \"w\") as f:\n",
    "    for row in new_data[:-30000]:\n",
    "        f.write(row+\"\\n\")\n",
    "    f.close()\n",
    "with open(\"data/gpt/dev_data.txt\", \"w\") as f:\n",
    "    for row in new_data[-30000:]:\n",
    "        f.write(row+\"\\n\")\n",
    "    f.close()"
   ]
  }
 ],
 "metadata": {
  "kernelspec": {
   "display_name": "gpt",
   "language": "python",
   "name": "gpt"
  },
  "language_info": {
   "codemirror_mode": {
    "name": "ipython",
    "version": 3
   },
   "file_extension": ".py",
   "mimetype": "text/x-python",
   "name": "python",
   "nbconvert_exporter": "python",
   "pygments_lexer": "ipython3",
   "version": "3.6.12"
  }
 },
 "nbformat": 4,
 "nbformat_minor": 1
}
